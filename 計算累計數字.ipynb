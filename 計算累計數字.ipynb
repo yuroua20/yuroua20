{
  "nbformat": 4,
  "nbformat_minor": 0,
  "metadata": {
    "colab": {
      "provenance": [],
      "authorship_tag": "ABX9TyMYEAcFGoR6/KIuQmTg55Cn",
      "include_colab_link": true
    },
    "kernelspec": {
      "name": "python3",
      "display_name": "Python 3"
    },
    "language_info": {
      "name": "python"
    }
  },
  "cells": [
    {
      "cell_type": "markdown",
      "metadata": {
        "id": "view-in-github",
        "colab_type": "text"
      },
      "source": [
        "<a href=\"https://colab.research.google.com/github/yuroua20/yuroua20/blob/main/%E8%A8%88%E7%AE%97%E7%B4%AF%E8%A8%88%E6%95%B8%E5%AD%97.ipynb\" target=\"_parent\"><img src=\"https://colab.research.google.com/assets/colab-badge.svg\" alt=\"Open In Colab\"/></a>"
      ]
    },
    {
      "cell_type": "code",
      "execution_count": 1,
      "metadata": {
        "id": "bkZbU4jtcgEd"
      },
      "outputs": [],
      "source": [
        "Q1=93000000"
      ]
    },
    {
      "cell_type": "code",
      "source": [
        "Q2=225000000"
      ],
      "metadata": {
        "id": "yRkcNoFgdXHD"
      },
      "execution_count": 2,
      "outputs": []
    },
    {
      "cell_type": "code",
      "source": [
        "Q3=264000000"
      ],
      "metadata": {
        "id": "vGOvX60Jdb-v"
      },
      "execution_count": 3,
      "outputs": []
    },
    {
      "cell_type": "code",
      "source": [
        "Q4=810000000"
      ],
      "metadata": {
        "id": "CmuXAnumdgOp"
      },
      "execution_count": 4,
      "outputs": []
    },
    {
      "cell_type": "code",
      "source": [
        "Acc_Q1=Q1\n",
        "print(Acc_Q1)"
      ],
      "metadata": {
        "colab": {
          "base_uri": "https://localhost:8080/"
        },
        "id": "dm64RZk8dmOP",
        "outputId": "b9708033-cd2f-4efd-d613-81c66390fc65"
      },
      "execution_count": 5,
      "outputs": [
        {
          "output_type": "stream",
          "name": "stdout",
          "text": [
            "93000000\n"
          ]
        }
      ]
    },
    {
      "cell_type": "code",
      "source": [
        "Acc_Q2=Q1+Q2\n",
        "print(Acc_Q2)"
      ],
      "metadata": {
        "colab": {
          "base_uri": "https://localhost:8080/"
        },
        "id": "ZcYos6KteH-E",
        "outputId": "19e924a0-da00-4042-82e6-faaa1edd0f44"
      },
      "execution_count": 6,
      "outputs": [
        {
          "output_type": "stream",
          "name": "stdout",
          "text": [
            "318000000\n"
          ]
        }
      ]
    },
    {
      "cell_type": "code",
      "source": [
        "Acc_Q3=Q1+Q2+Q3\n",
        "print(Acc_Q3)"
      ],
      "metadata": {
        "colab": {
          "base_uri": "https://localhost:8080/"
        },
        "id": "ziyCZgcseEd7",
        "outputId": "799a68b9-436b-47e9-ff53-2ed505fd4811"
      },
      "execution_count": 7,
      "outputs": [
        {
          "output_type": "stream",
          "name": "stdout",
          "text": [
            "582000000\n"
          ]
        }
      ]
    },
    {
      "cell_type": "code",
      "source": [
        "Acc_Q4=Q1+Q2+Q3+Q4\n",
        "print(Acc_Q4)"
      ],
      "metadata": {
        "colab": {
          "base_uri": "https://localhost:8080/"
        },
        "id": "TVScpD3xd637",
        "outputId": "b542860c-041b-4ce4-f24d-dbf00fb80fe8"
      },
      "execution_count": 8,
      "outputs": [
        {
          "output_type": "stream",
          "name": "stdout",
          "text": [
            "1392000000\n"
          ]
        }
      ]
    }
  ]
}